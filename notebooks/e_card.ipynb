{
 "cells": [
  {
   "cell_type": "code",
   "execution_count": 19,
   "metadata": {},
   "outputs": [
    {
     "name": "stdout",
     "output_type": "stream",
     "text": [
      "Player1: 皇帝\n",
      "Player2: 奴隷\n",
      "Player2 wins!\n"
     ]
    }
   ],
   "source": [
    "import random\n",
    "\n",
    "# プレイヤーの手札を設定\n",
    "player1 = {\"市民\": 4, \"皇帝\": 1}\n",
    "player2 = {\"市民\": 4, \"奴隷\": 1}\n",
    "\n",
    "# 勝ち負けの記録を初期化\n",
    "player1_wins = 0\n",
    "player2_wins = 0\n",
    "\n",
    "# 100回繰り返す\n",
    "for _ in range(100):\n",
    "    # 使用済みのカードを記録するためのリストを初期化\n",
    "    used_cards = []\n",
    "\n",
    "    # ゲームループ\n",
    "    while True:\n",
    "        # プレイヤー1がカードを出す\n",
    "        card1 = random.choice(list(player1.keys()))\n",
    "        while card1 in used_cards:\n",
    "            card1 = random.choice(list(player1.keys()))\n",
    "        used_cards.append(card1)\n",
    "        print(\"Player1: \" + card1)\n",
    "\n",
    "        # プレイヤー2がカードを出す\n",
    "        card2 = random.choice(list(player2.keys()))\n",
    "        while card2 in used_cards:\n",
    "            card2 = random.choice(list(player2.keys()))\n",
    "        used_cards.append(card2)\n",
    "        print(\"Player2: \" + card2)\n",
    "\n",
    "        # 勝敗を判定する\n",
    "        if card1 == card2:\n",
    "            print(\"Draw!\")\n",
    "            continue\n",
    "        elif (card1 == \"市民\" and card2 == \"奴隷\") or (card1 == \"皇帝\" and card2 == \"市民\"):\n",
    "            print(\"Player1 wins!\")\n",
    "            player1_wins += 1\n",
    "            break\n",
    "        else:\n",
    "            print(\"Player2 wins!\")\n",
    "            player2_wins += 1\n",
    "            break\n",
    "\n",
    "# 勝敗の結果を表示\n",
    "print(\"\\nResults after 100 games:\")\n",
    "print(\"Player1 wins: \", player1_wins)\n",
    "print(\"Player2 wins: \", player2_wins)\n"
   ]
  }
 ],
 "metadata": {
  "kernelspec": {
   "display_name": "Python 3 (ipykernel)",
   "language": "python",
   "name": "python3"
  },
  "language_info": {
   "codemirror_mode": {
    "name": "ipython",
    "version": 3
   },
   "file_extension": ".py",
   "mimetype": "text/x-python",
   "name": "python",
   "nbconvert_exporter": "python",
   "pygments_lexer": "ipython3",
   "version": "3.9.16"
  }
 },
 "nbformat": 4,
 "nbformat_minor": 2
}
